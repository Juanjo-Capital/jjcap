{
 "cells": [
  {
   "cell_type": "code",
   "execution_count": 1,
   "metadata": {},
   "outputs": [],
   "source": [
    "# Momentum trading notebook\n",
    "# TODO: Other packages that need to be included here?\n",
    "\n",
    "import pandas as pd\n",
    "import alpaca_trade_api as tradeapi"
   ]
  },
  {
   "cell_type": "code",
   "execution_count": 3,
   "metadata": {},
   "outputs": [],
   "source": [
    "# TODO: Create function outside of notebook to fetch API credentials from a .txt file also outside the notebook\n",
    "\n",
    "API_KEY = \"PKNFSOAETYUZ2V0RYM80\"\n",
    "API_SECRET = \"NbofH3cT23LwayjUIlZ1tyb3QLLVdEUD9zKUxkNS\"\n",
    "APCA_API_BASE_URL = \"https://paper-api.alpaca.markets\"\n",
    "\n",
    "api = tradeapi.REST(API_KEY, API_SECRET, APCA_API_BASE_URL, 'v2')"
   ]
  },
  {
   "cell_type": "code",
   "execution_count": 4,
   "metadata": {},
   "outputs": [],
   "source": [
    "# Momentum trading algo from Alpaaca:\n",
    "# https://github.com/alpacahq/Momentum-Trading-Example/blob/master/algo.py\n",
    "\n",
    "# We only consider stocks with per-share prices inside this range\n",
    "min_share_price = 2.0\n",
    "max_share_price = 13.0\n",
    "\n",
    "# Minimum previous-day dollar volume for a stock we might consider\n",
    "min_last_dv = 500000\n",
    "\n",
    "# Stop limit to default to\n",
    "default_stop = .95\n",
    "\n",
    "# How much of our portfolio to allocate to any one position\n",
    "risk = 0.001"
   ]
  },
  {
   "cell_type": "code",
   "execution_count": null,
   "metadata": {},
   "outputs": [],
   "source": []
  }
 ],
 "metadata": {
  "kernelspec": {
   "display_name": "Python 3",
   "language": "python",
   "name": "python3"
  },
  "language_info": {
   "codemirror_mode": {
    "name": "ipython",
    "version": 3
   },
   "file_extension": ".py",
   "mimetype": "text/x-python",
   "name": "python",
   "nbconvert_exporter": "python",
   "pygments_lexer": "ipython3",
   "version": "3.7.4"
  }
 },
 "nbformat": 4,
 "nbformat_minor": 2
}
